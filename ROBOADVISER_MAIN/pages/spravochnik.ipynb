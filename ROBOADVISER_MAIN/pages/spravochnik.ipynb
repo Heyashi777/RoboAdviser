{
 "cells": [
  {
   "cell_type": "code",
   "execution_count": 1,
   "id": "ea66545d-e9b4-4b69-9bd4-2522a64881b7",
   "metadata": {},
   "outputs": [],
   "source": [
    "import numpy as np\n",
    "import os\n",
    "import csv\n",
    "import json\n",
    "import pandas as pd\n",
    "import plotly.express as px\n",
    "import plotly.graph_objects as go\n",
    "import warnings\n",
    "import dash\n",
    "from dash import Dash, dcc, html, Input, Output, callback, dash_table, State, MATCH, ALL, Patch, State, ctx, register_page, page_container, no_update\n",
    "import dash_bootstrap_components as dbc\n",
    "import time\n",
    "from plotly.subplots import make_subplots\n",
    "from scipy.optimize import minimize\n",
    "import pymysql\n",
    "import dash_daq as daq\n",
    "import datetime\n",
    "import time"
   ]
  },
  {
   "cell_type": "code",
   "execution_count": 2,
   "id": "ceefeb5d-9789-4179-bc09-e88cb66a5e65",
   "metadata": {},
   "outputs": [],
   "source": [
    "# Стиль для первого блока\n",
    "FIRST_BLOCK_STYLE = {\n",
    "    'width': '80%',  # Ширина блока с учетом отступов слева и справа по 10%\n",
    "    'height': '10vh',  # Высота блока 10% от высоты страницы (используем vh для высоты относительно окна)\n",
    "    'margin-left': '10%',  # Отступ слева 10%\n",
    "    'margin-right': '10%',  # Отступ справа 10%\n",
    "    'margin-top': '5%',  # Отступ сверху 5%\n",
    "    'background-color': 'white',  # Цвет фона\n",
    "    'border-radius': '20px',  # Скругленные углы\n",
    "    'box-shadow': '0 4px 15px rgba(0, 0, 0, 0.3)',  # Тень\n",
    "}\n",
    "\n",
    "# Стиль для второго блока\n",
    "SECOND_BLOCK_STYLE = {\n",
    "    'width': '80%',  # Ширина блока с учетом отступов слева и справа по 10%\n",
    "    'height': '60vh',  # Высота зависит от содержимого, можно задать конкретное значение\n",
    "    'margin-left': '10%',  # Отступ слева 10%\n",
    "    'margin-right': '10%',  # Отступ справа 10%\n",
    "    'margin-top': '3%',  # Отступ сверху от первого блока 5%\n",
    "    'margin-bottom': '5%',  # Отступ снизу страницы 5%\n",
    "    'background-color': 'white',  # Цвет фона\n",
    "    'border-radius': '20px',  # Скругленные углы\n",
    "    'box-shadow': '0 4px 15px rgba(0, 0, 0, 0.3)',  # Тень\n",
    "}\n",
    "phone_numbers = [\n",
    "    {'label': '+1 (123) 456-7890', 'value': '+11234567890'},\n",
    "    {'label': '+44 (20) 7946 0958', 'value': '+442079460958'},\n",
    "    {'label': '+49 30 123456', 'value': '+4930123456'},\n",
    "]"
   ]
  },
  {
   "cell_type": "code",
   "execution_count": 3,
   "id": "2ea04d73-b5e8-4e93-bab3-17199051710e",
   "metadata": {},
   "outputs": [],
   "source": [
    "app = dash. Dash(__name__,  title='Робоадвайзинг - справочник профилей', suppress_callback_exceptions=True)"
   ]
  },
  {
   "cell_type": "code",
   "execution_count": 4,
   "id": "8b18c17e-f927-4fd3-ba62-70220bbb634c",
   "metadata": {},
   "outputs": [
    {
     "data": {
      "text/html": [
       "\n",
       "        <iframe\n",
       "            width=\"100%\"\n",
       "            height=\"650\"\n",
       "            src=\"http://0.0.0.0:1115/\"\n",
       "            frameborder=\"0\"\n",
       "            allowfullscreen\n",
       "            \n",
       "        ></iframe>\n",
       "        "
      ],
      "text/plain": [
       "<IPython.lib.display.IFrame at 0x120bc6e50>"
      ]
     },
     "metadata": {},
     "output_type": "display_data"
    }
   ],
   "source": [
    "app.layout = html.Div([   \n",
    "                            html.H1(children = 'Портфели пользователей',\n",
    "                                                style = {\n",
    "                                                         'textAlign': 'center',  'color': '#333332', 'font-weight': '2'\n",
    "                                                        }\n",
    "                                                ),  \n",
    "                            html.Div([\n",
    "                                        dcc.Dropdown(\n",
    "                                                id='phone-dropdown',\n",
    "                                                options=phone_numbers,  # Опции для выпадающего списка\n",
    "                                                placeholder=\"Выберите номер телефона\",  # Текст по умолчанию\n",
    "                                                style={  \n",
    "                                                         'width': '75%',\n",
    "                                                         'height': '5%',\n",
    "                                                         'border-radius': '20px', \n",
    "                                                         'padding': '1% 1%',\n",
    "                                                        'font-size': '14px',\n",
    "                                                         }\n",
    "                                            ),\n",
    "                                        dbc.Button(\n",
    "                                                                'ДОБАВИТЬ',\n",
    "                                                                id='submit_val',\n",
    "                                                                n_clicks=0,\n",
    "                                                                style={\n",
    "                                                                    'text-align': 'center', # Центрируем содержимое кнопки\n",
    "                                                                    'background-color': '#0E2432',  # Темно-синий цвет заливки\n",
    "                                                                    'color': 'white',  # Белый цвет текста\n",
    "                                                                    'border': '2px solid #0E2432',  # Круглый контур с тем же цветом, что и фон\n",
    "                                                                    'border-radius': '20px',  # Радиус скругления для круглой формы\n",
    "                                                                    'padding': '1% 10%',  # Отступы внутри кнопки\n",
    "                                                                    'cursor': 'pointer',  # Изменение курсора при наведении\n",
    "                                                                    'margin-left': '65%', \n",
    "                                                                    'margin-top': '-3%', \n",
    "                                                                    'font-size': '14px',  # Размер шрифта текста на кнопке\n",
    "                                                                }\n",
    "                                                            ),\n",
    "                                        ],style = FIRST_BLOCK_STYLE),\n",
    "                            html.Div([ ],style = SECOND_BLOCK_STYLE),\n",
    "                        ])\n",
    "if __name__ == '__main__':\n",
    "    app.run_server(port=1115, host=\"0.0.0.0\")"
   ]
  },
  {
   "cell_type": "code",
   "execution_count": null,
   "id": "f8c23753-25a5-46de-a9de-ea31f14718a1",
   "metadata": {},
   "outputs": [],
   "source": []
  },
  {
   "cell_type": "code",
   "execution_count": null,
   "id": "05da53d5-f9c0-4841-9d79-340e05465f02",
   "metadata": {},
   "outputs": [],
   "source": []
  }
 ],
 "metadata": {
  "kernelspec": {
   "display_name": "Python (myenv)",
   "language": "python",
   "name": "myenv"
  },
  "language_info": {
   "codemirror_mode": {
    "name": "ipython",
    "version": 3
   },
   "file_extension": ".py",
   "mimetype": "text/x-python",
   "name": "python",
   "nbconvert_exporter": "python",
   "pygments_lexer": "ipython3",
   "version": "3.11.9"
  }
 },
 "nbformat": 4,
 "nbformat_minor": 5
}
