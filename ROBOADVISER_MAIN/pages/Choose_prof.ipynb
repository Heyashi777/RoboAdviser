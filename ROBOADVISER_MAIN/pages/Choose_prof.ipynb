{
 "cells": [
  {
   "cell_type": "code",
   "execution_count": 1,
   "id": "1d2f3190-5e61-45ea-ae27-a03e554c0d55",
   "metadata": {},
   "outputs": [],
   "source": [
    "import numpy as np\n",
    "import os\n",
    "import csv\n",
    "import json\n",
    "import pandas as pd\n",
    "import plotly.express as px\n",
    "import plotly.graph_objects as go\n",
    "import warnings\n",
    "import dash\n",
    "from dash import Dash, dcc, html, Input, Output, callback, dash_table, State, MATCH, ALL, Patch, State, ctx, register_page, page_container, no_update\n",
    "import dash_bootstrap_components as dbc\n",
    "import time\n",
    "from plotly.subplots import make_subplots\n",
    "from scipy.optimize import minimize\n",
    "import pymysql\n",
    "import dash_daq as daq\n",
    "import datetime\n",
    "import time"
   ]
  },
  {
   "cell_type": "code",
   "execution_count": 2,
   "id": "06564b91-46b6-4b8c-9504-bdd85db81c58",
   "metadata": {},
   "outputs": [],
   "source": [
    "MAIN_BLOCK_STYLE = {\n",
    "    \"position\": \"fixed\",  # Используем фиксированное позиционирование, чтобы блок всегда оставался на экране\n",
    "    \"margin-top\": \"15%\",  # Выравниваем блок по верхнему краю страницы\n",
    "    \"margin-left\": \"55%\",  # Выравниваем блок по правому краю страницы\n",
    "    \"width\": \"40%\",  # Ширина блока 50% от ширины экрана\n",
    "    \"height\": \"40%\",  # Высота блока 100% от высоты экрана\n",
    "    \"overflow\": \"auto\",  # Прокручиваемое содержимое, если оно превышает размер блока\n",
    "    \"border-radius\": \"10% 10% 10% 10%\",\n",
    "    \"box-shadow\": \"0 4px 15px rgba(0, 0, 0, 0.3)\",  # Добавление тени\n",
    "}\n",
    "phone_numbers = [\n",
    "    {'label': '+1 (123) 456-7890', 'value': '+11234567890'},\n",
    "    {'label': '+44 (20) 7946 0958', 'value': '+442079460958'},\n",
    "    {'label': '+49 30 123456', 'value': '+4930123456'},\n",
    "]"
   ]
  },
  {
   "cell_type": "code",
   "execution_count": 3,
   "id": "7e071750-b4cb-4501-a700-8870eb82a428",
   "metadata": {},
   "outputs": [],
   "source": [
    "app = dash. Dash(__name__,  title='Робоадвайзинг - Выберите профиль', suppress_callback_exceptions=True)"
   ]
  },
  {
   "cell_type": "code",
   "execution_count": 4,
   "id": "5d3f4916-18f2-4d3c-99c2-70852f68d85c",
   "metadata": {},
   "outputs": [
    {
     "data": {
      "text/html": [
       "\n",
       "        <iframe\n",
       "            width=\"100%\"\n",
       "            height=\"650\"\n",
       "            src=\"http://0.0.0.0:1113/\"\n",
       "            frameborder=\"0\"\n",
       "            allowfullscreen\n",
       "            \n",
       "        ></iframe>\n",
       "        "
      ],
      "text/plain": [
       "<IPython.lib.display.IFrame at 0x108bb1590>"
      ]
     },
     "metadata": {},
     "output_type": "display_data"
    }
   ],
   "source": [
    "app.layout = html.Div([ \n",
    "                        html.Div([ \n",
    "                                 ], style = {'background-image': 'url(https://uhdwallpapers.org/uploads/converted/18/02/18/brooklyn-bridge-1080x1920_4485-mm-90.jpg)',\n",
    "                                           'background-size': '110%',\n",
    "                                           'left': 0,\n",
    "                                           \"top\": 0, \n",
    "                                           'width': '50%',\n",
    "                                           'height': '100vh',\n",
    "                                           \"position\": \"fixed\", \n",
    "                                           \"border-radius\": \"0% 30% 30% 0%\",\n",
    "                                           }),\n",
    "                        html.Div([ \n",
    "                                  html.H1(children = 'Выберите профиль',\n",
    "                                                style = {\n",
    "                                                         'textAlign': 'center',  'color': '#333332', 'font-weight': '2'\n",
    "                                                        }\n",
    "                                                ),  \n",
    "                                  html.H3(children = 'Профиль клиента по номеру телефона',\n",
    "                                                style = {\n",
    "                                                         'textAlign': 'center',  'color': '#B2B3B5', 'font-weight': '2'\n",
    "                                                        }\n",
    "                                                ),  \n",
    "                                dcc.Dropdown(\n",
    "                                                id='phone-dropdown',\n",
    "                                                options=phone_numbers,  # Опции для выпадающего списка\n",
    "                                                placeholder=\"Выберите номер телефона\",  # Текст по умолчанию\n",
    "                                                style={  'marginRight':'10px',\n",
    "                                                         'width': '75%',\n",
    "                                                         'height': '15%',\n",
    "                                                         'margin': '0 auto',\n",
    "                                                         'border-radius': '20px', \n",
    "                                                         }\n",
    "                                            ),\n",
    "                                dbc.Button(\n",
    "                                                                'ДАЛЕЕ',\n",
    "                                                                id='NEXT_PAGE',\n",
    "                                                                n_clicks=0,\n",
    "                                                                href = \"http://localhost:1114/\",\n",
    "                                                                style={\n",
    "                                                                    'text-align': 'center',  # Центрируем содержимое кнопки\n",
    "                                                                    'color': 'black',  # Белый цвет текста\n",
    "                                                                    'border': '2px',  # Круглый контур с тем же цветом, что и фон\n",
    "                                                                    'border-radius': '20px',  # Радиус скругления для круглой формы\n",
    "                                                                    'padding': '10px 20px',  # Отступы внутри кнопки\n",
    "                                                                    'cursor': 'pointer',  # Изменение курсора при наведении\n",
    "                                                                    'font-size': '14px',  # Размер шрифта текста на кнопке\n",
    "                                                                    \"box-shadow\": \"0 4px 15px rgba(0, 0, 0, 0.3)\",\n",
    "                                                                    \"margin-left\": \"20%\",  # Отступ слева\n",
    "                                                                    \"margin-top\": \"5%\",  # Отступ сверху\n",
    "                                                                    'width': '55%',  # Увеличенная ширина кнопки\n",
    "                                                                    'display': 'flex',\n",
    "                                                                    'justify-content': 'center',  # Выравнивание содержимого по горизонтали\n",
    "                                                                    'align-items': 'center',  # Выравнивание содержимого по вертикали\n",
    "                                                                }\n",
    "                                                            ),\n",
    "                                ], style = MAIN_BLOCK_STYLE)\n",
    "                      ],      \n",
    "                        ### Картинка на фон страницы\n",
    "                        style={ \"background-color\": \"#F3F3F2\",\n",
    "                               })\n",
    "if __name__ == '__main__':\n",
    "    app.run_server(port=1113, host=\"0.0.0.0\")"
   ]
  },
  {
   "cell_type": "code",
   "execution_count": null,
   "id": "45f081d4-833e-4274-9a17-905ff416cf6a",
   "metadata": {},
   "outputs": [],
   "source": []
  },
  {
   "cell_type": "code",
   "execution_count": null,
   "id": "1b569f1d-84bf-48e1-926b-92694a10422a",
   "metadata": {},
   "outputs": [],
   "source": []
  },
  {
   "cell_type": "code",
   "execution_count": null,
   "id": "2cb8bbc4-e92d-476b-b93c-18ff28dccbbb",
   "metadata": {},
   "outputs": [],
   "source": []
  }
 ],
 "metadata": {
  "kernelspec": {
   "display_name": "Python (myenv)",
   "language": "python",
   "name": "myenv"
  },
  "language_info": {
   "codemirror_mode": {
    "name": "ipython",
    "version": 3
   },
   "file_extension": ".py",
   "mimetype": "text/x-python",
   "name": "python",
   "nbconvert_exporter": "python",
   "pygments_lexer": "ipython3",
   "version": "3.11.9"
  }
 },
 "nbformat": 4,
 "nbformat_minor": 5
}
